{
 "cells": [
  {
   "cell_type": "markdown",
   "metadata": {},
   "source": [
    "-> tf.logging.set..... is for telling tensorflow to only display errors.\n",
    "tf.logging wont work in tensorflow 2.0\n",
    "instead tf.compat.v1.logging\n",
    "-> it is used for logging and summary operations"
   ]
  },
  {
   "cell_type": "code",
   "execution_count": 6,
   "metadata": {},
   "outputs": [],
   "source": [
    "import tensorflow as tf\n",
    "tf.compat.v1.logging.set_verbosity(tf.compat.v1.logging.ERROR)\n",
    "import numpy as np"
   ]
  },
  {
   "cell_type": "markdown",
   "metadata": {},
   "source": [
    "enumerate:\n",
    "it is a function used to keep counter along the iteration.\n",
    "for eg- \n",
    "print(list(enumerate(celsius)))\n",
    "output:\n",
    "[(0, -40.0), (1, -10.0), (2, 0.0), (3, 8.0), (4, 15.0), (5, 22.0), (6, 38.0)]\n",
    "\n",
    "The indexing can be changed by mentioning the starting index\n",
    "\n",
    "for eg-\n",
    "print(list(enumerate(celsius,3)))\n",
    "output:\n",
    "[(3, -40.0), (4, -10.0), (5, 0.0), (6, 8.0), (7, 15.0), (8, 22.0), (9, 38.0)]"
   ]
  },
  {
   "cell_type": "code",
   "execution_count": 8,
   "metadata": {},
   "outputs": [
    {
     "name": "stdout",
     "output_type": "stream",
     "text": [
      "-40.0 degree celsius = -40.0 degree fahrenheit\n",
      "-10.0 degree celsius = 14.0 degree fahrenheit\n",
      "0.0 degree celsius = 32.0 degree fahrenheit\n",
      "8.0 degree celsius = 46.0 degree fahrenheit\n",
      "15.0 degree celsius = 59.0 degree fahrenheit\n",
      "22.0 degree celsius = 72.0 degree fahrenheit\n",
      "38.0 degree celsius = 100.0 degree fahrenheit\n"
     ]
    }
   ],
   "source": [
    "celsius = np.array([-40,-10,0,8,15,22,38], dtype=float)\n",
    "fahrenheit = np.array([-40,14,32,46,59,72,100], dtype=float)\n",
    "\n",
    "for i,c in enumerate(celsius):\n",
    "    print(\"{} degree celsius = {} degree fahrenheit\".format(c,fahrenheit[i]))"
   ]
  },
  {
   "cell_type": "markdown",
   "metadata": {},
   "source": [
    "Now we introduce a dense layer.\n",
    "What is a dense layer?\n",
    "A dense layer is the layer of neurons in which all the neurons are fully connected to the neurons of the previous layer.\n",
    "input_shape - it specifies the kind of input that layer will get.In this case it is a single element of a one dimensional array.\n",
    "Units - It is the number of neurons in a layer.\n"
   ]
  },
  {
   "cell_type": "code",
   "execution_count": 15,
   "metadata": {},
   "outputs": [],
   "source": [
    "layer1 = tf.keras.layers.Dense(units=1,input_shape=[1])"
   ]
  },
  {
   "cell_type": "markdown",
   "metadata": {},
   "source": [
    "-> We can create multiple layers. The sequential model takes all the layers as argument, specifies the calculation order from the input to output."
   ]
  },
  {
   "cell_type": "code",
   "execution_count": 17,
   "metadata": {},
   "outputs": [],
   "source": [
    "model = tf.keras.Sequential([layer1])"
   ]
  },
  {
   "cell_type": "markdown",
   "metadata": {},
   "source": [
    "-> Before training , we need to compile the model\n",
    "-> Loss Function - It is a way to measure how far off predictions are from the desired outcome.\n",
    "lower the loss , better the model.\n",
    "-> Optimizer function - A way of adjusting internal values in order to reduce the loss. "
   ]
  },
  {
   "cell_type": "code",
   "execution_count": 19,
   "metadata": {},
   "outputs": [],
   "source": [
    "model.compile(loss=\"mean_squared_error\",\n",
    "             optimizer=tf.keras.optimizers.Adam(0.1))"
   ]
  },
  {
   "cell_type": "markdown",
   "metadata": {},
   "source": [
    "Training the model\n",
    "\n",
    "epoch = it is the number of iterations to train the model completely.\n",
    "verbose = controls how much output the method produces"
   ]
  },
  {
   "cell_type": "code",
   "execution_count": 31,
   "metadata": {},
   "outputs": [
    {
     "name": "stdout",
     "output_type": "stream",
     "text": [
      "successfully trained the model\n"
     ]
    }
   ],
   "source": [
    "answer = model.fit(celsius,fahrenheit,epochs = 2000 ,verbose=False)\n",
    "print(\"successfully trained the model\")"
   ]
  },
  {
   "cell_type": "markdown",
   "metadata": {},
   "source": [
    "plot the training statistics\n"
   ]
  },
  {
   "cell_type": "code",
   "execution_count": 32,
   "metadata": {},
   "outputs": [
    {
     "data": {
      "text/plain": [
       "[<matplotlib.lines.Line2D at 0x15e7a2b71d0>]"
      ]
     },
     "execution_count": 32,
     "metadata": {},
     "output_type": "execute_result"
    },
    {
     "data": {
      "image/png": "[encoded data removed]",
      "text/plain": [
       "<Figure size 432x288 with 1 Axes>"
      ]
     },
     "metadata": {
      "needs_background": "light"
     },
     "output_type": "display_data"
    }
   ],
   "source": [
    "import matplotlib.pyplot as plt\n",
    "\n",
    "plt.xlabel(\"epoch number\")\n",
    "plt.ylabel(\"loss magnitude\")\n",
    "plt.plot(answer.history[\"loss\"])"
   ]
  },
  {
   "cell_type": "code",
   "execution_count": 33,
   "metadata": {},
   "outputs": [
    {
     "name": "stdout",
     "output_type": "stream",
     "text": [
      "[[211.74744]]\n"
     ]
    }
   ],
   "source": [
    "print(model.predict([100]))"
   ]
  },
  {
   "cell_type": "code",
   "execution_count": 34,
   "metadata": {},
   "outputs": [
    {
     "name": "stdout",
     "output_type": "stream",
     "text": [
      "the layer variables are [array([[1.7979493]], dtype=float32), array([31.952497], dtype=float32)]\n"
     ]
    }
   ],
   "source": [
    "print(\"the layer variables are {}\".format(layer1.get_weights()))"
   ]
  },
  {
   "cell_type": "code",
   "execution_count": null,
   "metadata": {},
   "outputs": [],
   "source": []
  }
 ],
 "metadata": {
  "kernelspec": {
   "display_name": "Python 3",
   "language": "python",
   "name": "python3"
  },
  "language_info": {
   "codemirror_mode": {
    "name": "ipython",
    "version": 3
   },
   "file_extension": ".py",
   "mimetype": "text/x-python",
   "name": "python",
   "nbconvert_exporter": "python",
   "pygments_lexer": "ipython3",
   "version": "3.6.3"
  }
 },
 "nbformat": 4,
 "nbformat_minor": 4
}
